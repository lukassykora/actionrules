{
 "cells": [
  {
   "cell_type": "markdown",
   "id": "adacc86e60e3216a",
   "metadata": {},
   "source": [
    "# Action Rules Example"
   ]
  },
  {
   "cell_type": "markdown",
   "id": "48fddbaddd90bf29",
   "metadata": {},
   "source": [
    "### Import Module"
   ]
  },
  {
   "cell_type": "code",
   "execution_count": 1,
   "id": "a57944de-7a93-4932-88c1-a000f27d8005",
   "metadata": {
    "jupyter": {
     "is_executing": true
    }
   },
   "outputs": [],
   "source": [
    "from action_rules import ActionRules"
   ]
  },
  {
   "cell_type": "markdown",
   "id": "bc3bd46ed322a836",
   "metadata": {},
   "source": [
    "### Import Data"
   ]
  },
  {
   "cell_type": "code",
   "execution_count": 2,
   "id": "14cd2938448b07f8",
   "metadata": {},
   "outputs": [],
   "source": [
    "import pandas as pd\n",
    "# Data\n",
    "transactions = {'Sex': ['M', 'F', 'M', 'M', 'F', 'M', 'F'], \n",
    "                'Age': ['Y', 'Y', 'O', 'Y', 'Y', 'O', 'Y'],\n",
    "                'Class': [1, 1, 2, 2, 1, 1, 2],\n",
    "                'Embarked': ['S', 'C', 'S', 'C', 'S', 'C', 'C'],\n",
    "                'Survived': [1, 1, 0, 0, 1, 1, 0],\n",
    "               }\n",
    "data = pd.DataFrame.from_dict(transactions)"
   ]
  },
  {
   "cell_type": "markdown",
   "id": "6d5597e733ed9fdc",
   "metadata": {},
   "source": [
    "### Initialize ActionRules Miner with Parameters"
   ]
  },
  {
   "cell_type": "code",
   "execution_count": 3,
   "id": "5ac76b85640676d8",
   "metadata": {},
   "outputs": [],
   "source": [
    "# Parameters\n",
    "stable_attributes = ['Age', 'Sex']\n",
    "flexible_attributes = ['Embarked', 'Class']\n",
    "target = 'Survived'\n",
    "min_stable_attributes = 2\n",
    "min_flexible_attributes = 1 #min 1\n",
    "min_undesired_support = 1\n",
    "min_undesired_confidence = 0.5 #min 0.5\n",
    "min_desired_support = 1\n",
    "min_desired_confidence = 0.5 #min 0.5\n",
    "undesired_state = 0\n",
    "desired_state = 1\n",
    "# Action Rules Mining\n",
    "action_rules = ActionRules(min_stable_attributes, min_flexible_attributes, min_undesired_support, min_undesired_confidence, min_desired_support,min_desired_confidence, verbose=False)"
   ]
  },
  {
   "cell_type": "markdown",
   "id": "7d175ff277ece815",
   "metadata": {},
   "source": [
    "### Train the Model"
   ]
  },
  {
   "cell_type": "code",
   "execution_count": 4,
   "id": "2947b116-81fb-4c57-9e04-bbfcc25e36cf",
   "metadata": {},
   "outputs": [],
   "source": [
    "action_rules.fit(\n",
    "    data, \n",
    "    stable_attributes, \n",
    "    flexible_attributes, \n",
    "    target, \n",
    "    undesired_state,\n",
    "    desired_state, \n",
    ")"
   ]
  },
  {
   "cell_type": "markdown",
   "id": "4c9869f13d17a6a3",
   "metadata": {},
   "source": [
    "### Print Action Rules"
   ]
  },
  {
   "cell_type": "code",
   "execution_count": 5,
   "id": "9b161fde66cd0e3",
   "metadata": {},
   "outputs": [
    {
     "name": "stdout",
     "output_type": "stream",
     "text": [
      "[(Age: O) ∧ (Sex: M) ∧ (Embarked: S → C)] ⇒ [Survived: Survived_<item_target>_0 → Survived_<item_target>_1], support of undesired part: 1, confidence of undesired part: 1.0, support of desired part: 1, confidence of desired part: 1.0, uplift: 1.0\n",
      "[(Age: O) ∧ (Sex: M) ∧ (Class: 2 → 1)] ⇒ [Survived: Survived_<item_target>_0 → Survived_<item_target>_1], support of undesired part: 1, confidence of undesired part: 1.0, support of desired part: 1, confidence of desired part: 1.0, uplift: 1.0\n",
      "[(Age: Y) ∧ (Sex: F) ∧ (Embarked*: C)] ⇒ [Survived: Survived_<item_target>_0 → Survived_<item_target>_1], support of undesired part: 1, confidence of undesired part: 0.5, support of desired part: 1, confidence of desired part: 0.5, uplift: 0.0\n",
      "[(Age: Y) ∧ (Sex: F) ∧ (Embarked: C → S)] ⇒ [Survived: Survived_<item_target>_0 → Survived_<item_target>_1], support of undesired part: 1, confidence of undesired part: 0.5, support of desired part: 1, confidence of desired part: 1.0, uplift: 1.0\n",
      "[(Age: Y) ∧ (Sex: F) ∧ (Class: 2 → 1)] ⇒ [Survived: Survived_<item_target>_0 → Survived_<item_target>_1], support of undesired part: 1, confidence of undesired part: 1.0, support of desired part: 2, confidence of desired part: 1.0, uplift: 1.0\n",
      "[(Age: Y) ∧ (Sex: M) ∧ (Embarked: C → S)] ⇒ [Survived: Survived_<item_target>_0 → Survived_<item_target>_1], support of undesired part: 1, confidence of undesired part: 1.0, support of desired part: 1, confidence of desired part: 1.0, uplift: 1.0\n",
      "[(Age: Y) ∧ (Sex: M) ∧ (Class: 2 → 1)] ⇒ [Survived: Survived_<item_target>_0 → Survived_<item_target>_1], support of undesired part: 1, confidence of undesired part: 1.0, support of desired part: 1, confidence of desired part: 1.0, uplift: 1.0\n",
      "[(Age: O) ∧ (Sex: M) ∧ (Embarked: S → C) ∧ (Class: 2 → 1)] ⇒ [Survived: Survived_<item_target>_0 → Survived_<item_target>_1], support of undesired part: 1, confidence of undesired part: 1.0, support of desired part: 1, confidence of desired part: 1.0, uplift: 1.0\n",
      "[(Age: Y) ∧ (Sex: F) ∧ (Embarked*: C) ∧ (Class: 2 → 1)] ⇒ [Survived: Survived_<item_target>_0 → Survived_<item_target>_1], support of undesired part: 1, confidence of undesired part: 1.0, support of desired part: 1, confidence of desired part: 1.0, uplift: 1.0\n",
      "[(Age: Y) ∧ (Sex: F) ∧ (Embarked: C → S) ∧ (Class: 2 → 1)] ⇒ [Survived: Survived_<item_target>_0 → Survived_<item_target>_1], support of undesired part: 1, confidence of undesired part: 1.0, support of desired part: 1, confidence of desired part: 1.0, uplift: 1.0\n",
      "[(Age: Y) ∧ (Sex: M) ∧ (Embarked: C → S) ∧ (Class: 2 → 1)] ⇒ [Survived: Survived_<item_target>_0 → Survived_<item_target>_1], support of undesired part: 1, confidence of undesired part: 1.0, support of desired part: 1, confidence of desired part: 1.0, uplift: 1.0\n"
     ]
    }
   ],
   "source": [
    "# Print rules\n",
    "for action_rule in action_rules.get_rules().get_ar_notation():\n",
    "    print(action_rule)"
   ]
  },
  {
   "cell_type": "code",
   "execution_count": 6,
   "id": "995f3d06d33f705c",
   "metadata": {},
   "outputs": [
    {
     "name": "stdout",
     "output_type": "stream",
     "text": [
      "If attribute 'Age' is 'O', attribute 'Sex' is 'M', attribute 'Embarked' value 'S' is changed to 'C', then 'Survived' value 'Survived_<item_target>_0' is changed to 'Survived_<item_target>_1 with uplift: 1.0.\n",
      "If attribute 'Age' is 'O', attribute 'Sex' is 'M', attribute 'Class' value '2' is changed to '1', then 'Survived' value 'Survived_<item_target>_0' is changed to 'Survived_<item_target>_1 with uplift: 1.0.\n",
      "If attribute 'Age' is 'Y', attribute 'Sex' is 'F', attribute (flexible is used as stable) 'Embarked' is 'C', then 'Survived' value 'Survived_<item_target>_0' is changed to 'Survived_<item_target>_1 with uplift: 0.0.\n",
      "If attribute 'Age' is 'Y', attribute 'Sex' is 'F', attribute 'Embarked' value 'C' is changed to 'S', then 'Survived' value 'Survived_<item_target>_0' is changed to 'Survived_<item_target>_1 with uplift: 1.0.\n",
      "If attribute 'Age' is 'Y', attribute 'Sex' is 'F', attribute 'Class' value '2' is changed to '1', then 'Survived' value 'Survived_<item_target>_0' is changed to 'Survived_<item_target>_1 with uplift: 1.0.\n",
      "If attribute 'Age' is 'Y', attribute 'Sex' is 'M', attribute 'Embarked' value 'C' is changed to 'S', then 'Survived' value 'Survived_<item_target>_0' is changed to 'Survived_<item_target>_1 with uplift: 1.0.\n",
      "If attribute 'Age' is 'Y', attribute 'Sex' is 'M', attribute 'Class' value '2' is changed to '1', then 'Survived' value 'Survived_<item_target>_0' is changed to 'Survived_<item_target>_1 with uplift: 1.0.\n",
      "If attribute 'Age' is 'O', attribute 'Sex' is 'M', attribute 'Embarked' value 'S' is changed to 'C', attribute 'Class' value '2' is changed to '1', then 'Survived' value 'Survived_<item_target>_0' is changed to 'Survived_<item_target>_1 with uplift: 1.0.\n",
      "If attribute 'Age' is 'Y', attribute 'Sex' is 'F', attribute (flexible is used as stable) 'Embarked' is 'C', attribute 'Class' value '2' is changed to '1', then 'Survived' value 'Survived_<item_target>_0' is changed to 'Survived_<item_target>_1 with uplift: 1.0.\n",
      "If attribute 'Age' is 'Y', attribute 'Sex' is 'F', attribute 'Embarked' value 'C' is changed to 'S', attribute 'Class' value '2' is changed to '1', then 'Survived' value 'Survived_<item_target>_0' is changed to 'Survived_<item_target>_1 with uplift: 1.0.\n",
      "If attribute 'Age' is 'Y', attribute 'Sex' is 'M', attribute 'Embarked' value 'C' is changed to 'S', attribute 'Class' value '2' is changed to '1', then 'Survived' value 'Survived_<item_target>_0' is changed to 'Survived_<item_target>_1 with uplift: 1.0.\n"
     ]
    }
   ],
   "source": [
    "for action_rule in action_rules.get_rules().get_pretty_ar_notation():\n",
    "    print(action_rule)"
   ]
  },
  {
   "cell_type": "code",
   "execution_count": 7,
   "id": "a49fcab4f86fadf9",
   "metadata": {},
   "outputs": [
    {
     "name": "stdout",
     "output_type": "stream",
     "text": [
      "[{\"stable\": [{\"attribute\": \"Age\", \"value\": \"O\"}, {\"attribute\": \"Sex\", \"value\": \"M\"}], \"flexible\": [{\"attribute\": \"Embarked\", \"undesired\": \"S\", \"desired\": \"C\"}], \"target\": {\"attribute\": \"Survived\", \"undesired\": \"0\", \"desired\": \"1\"}, \"support of undesired part\": 1, \"confidence of undesired part\": 1.0, \"support of desired part\": 1, \"confidence of desired part\": 1.0, \"uplift\": 1.0}, {\"stable\": [{\"attribute\": \"Age\", \"value\": \"O\"}, {\"attribute\": \"Sex\", \"value\": \"M\"}], \"flexible\": [{\"attribute\": \"Class\", \"undesired\": \"2\", \"desired\": \"1\"}], \"target\": {\"attribute\": \"Survived\", \"undesired\": \"0\", \"desired\": \"1\"}, \"support of undesired part\": 1, \"confidence of undesired part\": 1.0, \"support of desired part\": 1, \"confidence of desired part\": 1.0, \"uplift\": 1.0}, {\"stable\": [{\"attribute\": \"Age\", \"value\": \"Y\"}, {\"attribute\": \"Sex\", \"value\": \"F\"}, {\"attribute\": \"Embarked\", \"value\": \"C\", \"flexible_as_stable\": true}], \"flexible\": [], \"target\": {\"attribute\": \"Survived\", \"undesired\": \"0\", \"desired\": \"1\"}, \"support of undesired part\": 1, \"confidence of undesired part\": 0.5, \"support of desired part\": 1, \"confidence of desired part\": 0.5, \"uplift\": 0.0}, {\"stable\": [{\"attribute\": \"Age\", \"value\": \"Y\"}, {\"attribute\": \"Sex\", \"value\": \"F\"}], \"flexible\": [{\"attribute\": \"Embarked\", \"undesired\": \"C\", \"desired\": \"S\"}], \"target\": {\"attribute\": \"Survived\", \"undesired\": \"0\", \"desired\": \"1\"}, \"support of undesired part\": 1, \"confidence of undesired part\": 0.5, \"support of desired part\": 1, \"confidence of desired part\": 1.0, \"uplift\": 1.0}, {\"stable\": [{\"attribute\": \"Age\", \"value\": \"Y\"}, {\"attribute\": \"Sex\", \"value\": \"F\"}], \"flexible\": [{\"attribute\": \"Class\", \"undesired\": \"2\", \"desired\": \"1\"}], \"target\": {\"attribute\": \"Survived\", \"undesired\": \"0\", \"desired\": \"1\"}, \"support of undesired part\": 1, \"confidence of undesired part\": 1.0, \"support of desired part\": 2, \"confidence of desired part\": 1.0, \"uplift\": 1.0}, {\"stable\": [{\"attribute\": \"Age\", \"value\": \"Y\"}, {\"attribute\": \"Sex\", \"value\": \"M\"}], \"flexible\": [{\"attribute\": \"Embarked\", \"undesired\": \"C\", \"desired\": \"S\"}], \"target\": {\"attribute\": \"Survived\", \"undesired\": \"0\", \"desired\": \"1\"}, \"support of undesired part\": 1, \"confidence of undesired part\": 1.0, \"support of desired part\": 1, \"confidence of desired part\": 1.0, \"uplift\": 1.0}, {\"stable\": [{\"attribute\": \"Age\", \"value\": \"Y\"}, {\"attribute\": \"Sex\", \"value\": \"M\"}], \"flexible\": [{\"attribute\": \"Class\", \"undesired\": \"2\", \"desired\": \"1\"}], \"target\": {\"attribute\": \"Survived\", \"undesired\": \"0\", \"desired\": \"1\"}, \"support of undesired part\": 1, \"confidence of undesired part\": 1.0, \"support of desired part\": 1, \"confidence of desired part\": 1.0, \"uplift\": 1.0}, {\"stable\": [{\"attribute\": \"Age\", \"value\": \"O\"}, {\"attribute\": \"Sex\", \"value\": \"M\"}], \"flexible\": [{\"attribute\": \"Embarked\", \"undesired\": \"S\", \"desired\": \"C\"}, {\"attribute\": \"Class\", \"undesired\": \"2\", \"desired\": \"1\"}], \"target\": {\"attribute\": \"Survived\", \"undesired\": \"0\", \"desired\": \"1\"}, \"support of undesired part\": 1, \"confidence of undesired part\": 1.0, \"support of desired part\": 1, \"confidence of desired part\": 1.0, \"uplift\": 1.0}, {\"stable\": [{\"attribute\": \"Age\", \"value\": \"Y\"}, {\"attribute\": \"Sex\", \"value\": \"F\"}, {\"attribute\": \"Embarked\", \"value\": \"C\", \"flexible_as_stable\": true}], \"flexible\": [{\"attribute\": \"Class\", \"undesired\": \"2\", \"desired\": \"1\"}], \"target\": {\"attribute\": \"Survived\", \"undesired\": \"0\", \"desired\": \"1\"}, \"support of undesired part\": 1, \"confidence of undesired part\": 1.0, \"support of desired part\": 1, \"confidence of desired part\": 1.0, \"uplift\": 1.0}, {\"stable\": [{\"attribute\": \"Age\", \"value\": \"Y\"}, {\"attribute\": \"Sex\", \"value\": \"F\"}], \"flexible\": [{\"attribute\": \"Embarked\", \"undesired\": \"C\", \"desired\": \"S\"}, {\"attribute\": \"Class\", \"undesired\": \"2\", \"desired\": \"1\"}], \"target\": {\"attribute\": \"Survived\", \"undesired\": \"0\", \"desired\": \"1\"}, \"support of undesired part\": 1, \"confidence of undesired part\": 1.0, \"support of desired part\": 1, \"confidence of desired part\": 1.0, \"uplift\": 1.0}, {\"stable\": [{\"attribute\": \"Age\", \"value\": \"Y\"}, {\"attribute\": \"Sex\", \"value\": \"M\"}], \"flexible\": [{\"attribute\": \"Embarked\", \"undesired\": \"C\", \"desired\": \"S\"}, {\"attribute\": \"Class\", \"undesired\": \"2\", \"desired\": \"1\"}], \"target\": {\"attribute\": \"Survived\", \"undesired\": \"0\", \"desired\": \"1\"}, \"support of undesired part\": 1, \"confidence of undesired part\": 1.0, \"support of desired part\": 1, \"confidence of desired part\": 1.0, \"uplift\": 1.0}]\n"
     ]
    }
   ],
   "source": [
    "print(action_rules.get_rules().get_export_notation())"
   ]
  },
  {
   "cell_type": "markdown",
   "id": "c87bb1ae66d087de",
   "metadata": {},
   "source": [
    "## CLI"
   ]
  },
  {
   "cell_type": "code",
   "execution_count": 8,
   "id": "ff5d912a-e23f-4905-ad80-d143e58643ba",
   "metadata": {},
   "outputs": [],
   "source": [
    "data.to_csv('data.csv')"
   ]
  },
  {
   "cell_type": "markdown",
   "id": "a1037b65a0b2de6b",
   "metadata": {},
   "source": [
    "### Help"
   ]
  },
  {
   "cell_type": "code",
   "execution_count": 9,
   "id": "65e8f52d-bef2-4eb2-8c60-492d396433c2",
   "metadata": {},
   "outputs": [
    {
     "name": "stdout",
     "output_type": "stream",
     "text": [
      "Usage: action-rules [OPTIONS]\n",
      "\n",
      "  CLI.\n",
      "\n",
      "  Decompose a single action rule into two rules, r1 and r2: one representing\n",
      "  the state before (undesired part) and the other after the intervention\n",
      "  (desired part): r1 -> r2.\n",
      "\n",
      "  Parameters ---------- min_stable_attributes : int     Minimum number of\n",
      "  stable attributes required. min_flexible_attributes : int     Minimum number\n",
      "  of flexible attributes required. min_undesired_support : int     Minimum\n",
      "  support for the undesired state. min_undesired_confidence : float\n",
      "  Minimum confidence for the undesired state. min_desired_support : int\n",
      "  Minimum support for the desired state. min_desired_confidence : float\n",
      "  Minimum confidence for the desired state. csv_path : BinaryIO     Path to\n",
      "  the CSV file containing the dataset. stable_attributes : str     Comma-\n",
      "  separated list of stable attributes. flexible_attributes : str     Comma-\n",
      "  separated list of flexible attributes. target : str     Target attribute for\n",
      "  the action rule. undesired_state : str     The undesired state of the target\n",
      "  attribute. desired_state : str     The desired state of the target\n",
      "  attribute. output_json_path : BinaryIO     Path to the output JSON file\n",
      "  where the results will be saved.\n",
      "\n",
      "  Returns ------- None\n",
      "\n",
      "Options:\n",
      "  --min_stable_attributes INTEGER\n",
      "                                  Minimum number of stable attributes.\n",
      "  --min_flexible_attributes INTEGER\n",
      "                                  Minimum number of flexible attributes. Must\n",
      "                                  be at least 1.\n",
      "  --min_undesired_support INTEGER\n",
      "                                  Support of the undesired part of the rule.\n",
      "                                  Number of instances matching all conditions\n",
      "                                  in the antecedent and consequent of r1.\n",
      "  --min_undesired_confidence FLOAT\n",
      "                                  Confidence of the undesired part of the\n",
      "                                  rule. Number of instances matching all\n",
      "                                  conditions in the antecedent and consequent\n",
      "                                  of r1 divided by number of instances\n",
      "                                  matching all conditions in the antecedent of\n",
      "                                  r1.\n",
      "  --min_desired_support INTEGER   Support of the desired part of the rule.\n",
      "                                  Number of instances matching all conditions\n",
      "                                  in the antecedent and consequent of r2.\n",
      "  --min_desired_confidence FLOAT  Confidence of the desired part of the rule.\n",
      "                                  Number of instances matching all conditions\n",
      "                                  in the antecedent and consequent of r2\n",
      "                                  divided by number of instances matching all\n",
      "                                  conditions in the antecedent of r2.\n",
      "  --csv_path FILENAME             Dataset where the first row is the header. A\n",
      "                                  comma is used as a separator.\n",
      "  --stable_attributes TEXT        These attributes remain unchanged regardless\n",
      "                                  of the actions described by the rule.\n",
      "  --flexible_attributes TEXT      These are the attributes that can change.\n",
      "  --target TEXT                   This is the outcome attribute that the\n",
      "                                  action rule aims to influence.\n",
      "  --undesired_state TEXT          The undesired state of a target is the\n",
      "                                  current or starting state that you want to\n",
      "                                  change or improve. It represents a negative\n",
      "                                  or less preferred outcome.\n",
      "  --desired_state TEXT            The desired state of a target is goal state\n",
      "                                  that you want to achieve as a result of\n",
      "                                  applying the action rule. It represents a\n",
      "                                  positive or preferred outcome.\n",
      "  --output_json_path FILENAME     Action Rules (JSON representation).\n",
      "  --help                          Show this message and exit.\n"
     ]
    }
   ],
   "source": [
    "! action-rules --help"
   ]
  },
  {
   "cell_type": "code",
   "execution_count": 10,
   "id": "7ee7b2bccdf896e1",
   "metadata": {},
   "outputs": [],
   "source": [
    "### Command"
   ]
  },
  {
   "cell_type": "code",
   "execution_count": 11,
   "id": "02025696-79e9-419c-a6f3-44f484383656",
   "metadata": {},
   "outputs": [
    {
     "name": "stdout",
     "output_type": "stream",
     "text": [
      "action-rules\n",
      "============\n",
      "The package for action rules mining using Action-Apriori (Apriori Modified for Action Rules Mining).\n",
      "Done.\n"
     ]
    }
   ],
   "source": [
    "! action-rules --min_stable_attributes 2 --min_flexible_attributes 1 --min_undesired_support 1 --min_undesired_confidence 0.5 --min_desired_support 1 --min_desired_confidence 0.5 --csv_path 'data.csv' --stable_attributes 'Sex, Age' --flexible_attributes 'Class, Embarked' --target 'Survived' --undesired_state '0' --desired_state '1' --output_json_path 'output.json'   \n"
   ]
  },
  {
   "cell_type": "code",
   "execution_count": null,
   "id": "17b7424f-b425-42b3-9136-72727b218756",
   "metadata": {},
   "outputs": [],
   "source": ""
  }
 ],
 "metadata": {
  "kernelspec": {
   "display_name": "Python 3 (ipykernel)",
   "language": "python",
   "name": "python3"
  },
  "language_info": {
   "codemirror_mode": {
    "name": "ipython",
    "version": 3
   },
   "file_extension": ".py",
   "mimetype": "text/x-python",
   "name": "python",
   "nbconvert_exporter": "python",
   "pygments_lexer": "ipython3",
   "version": "3.12.3"
  }
 },
 "nbformat": 4,
 "nbformat_minor": 5
}
